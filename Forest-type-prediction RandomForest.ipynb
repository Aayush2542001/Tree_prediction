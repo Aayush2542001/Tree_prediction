{
 "cells": [
  {
   "cell_type": "code",
   "execution_count": 1,
   "id": "1a7c81af",
   "metadata": {
    "_cell_guid": "b1076dfc-b9ad-4769-8c92-a6c4dae69d19",
    "_uuid": "8f2839f25d086af736a60e9eeb907d3b93b6e0e5",
    "execution": {
     "iopub.execute_input": "2022-01-28T06:37:59.201552Z",
     "iopub.status.busy": "2022-01-28T06:37:59.200855Z",
     "iopub.status.idle": "2022-01-28T06:38:05.142017Z",
     "shell.execute_reply": "2022-01-28T06:38:05.142401Z",
     "shell.execute_reply.started": "2022-01-28T05:30:49.446270Z"
    },
    "papermill": {
     "duration": 5.971233,
     "end_time": "2022-01-28T06:38:05.142629",
     "exception": false,
     "start_time": "2022-01-28T06:37:59.171396",
     "status": "completed"
    },
    "tags": []
   },
   "outputs": [],
   "source": [
    "import os\n",
    "import numpy as np\n",
    "import pandas as pd\n",
    "\n",
    "from sklearn.model_selection import train_test_split\n",
    "from sklearn.metrics import mean_squared_error\n",
    "from sklearn.preprocessing import OneHotEncoder\n",
    "\n",
    "import tensorflow as tf\n",
    "from tensorflow import keras\n",
    "from tensorflow.keras.models import Sequential\n",
    "from tensorflow.keras.layers import Activation,Dense\n",
    "from tensorflow.keras.optimizers import Adam\n",
    "from tensorflow.keras.metrics import categorical_crossentropy"
   ]
  },
  {
   "cell_type": "code",
   "execution_count": 2,
   "id": "e981d81c",
   "metadata": {
    "execution": {
     "iopub.execute_input": "2022-01-28T06:38:05.173732Z",
     "iopub.status.busy": "2022-01-28T06:38:05.173289Z",
     "iopub.status.idle": "2022-01-28T06:38:05.177977Z",
     "shell.execute_reply": "2022-01-28T06:38:05.178346Z",
     "shell.execute_reply.started": "2022-01-28T05:30:52.175826Z"
    },
    "papermill": {
     "duration": 0.022365,
     "end_time": "2022-01-28T06:38:05.178472",
     "exception": false,
     "start_time": "2022-01-28T06:38:05.156107",
     "status": "completed"
    },
    "tags": []
   },
   "outputs": [
    {
     "name": "stdout",
     "output_type": "stream",
     "text": [
      "/kaggle/input/tabular-playground-series-dec-2021/sample_submission.csv\n",
      "/kaggle/input/tabular-playground-series-dec-2021/train.csv\n",
      "/kaggle/input/tabular-playground-series-dec-2021/test.csv\n"
     ]
    }
   ],
   "source": [
    "for dirname, _, filenames in os.walk('/kaggle/input'):\n",
    "    for filename in filenames:\n",
    "        print(os.path.join(dirname, filename))"
   ]
  },
  {
   "cell_type": "code",
   "execution_count": 3,
   "id": "b1809dfb",
   "metadata": {
    "execution": {
     "iopub.execute_input": "2022-01-28T06:38:05.207400Z",
     "iopub.status.busy": "2022-01-28T06:38:05.206950Z",
     "iopub.status.idle": "2022-01-28T06:38:26.653714Z",
     "shell.execute_reply": "2022-01-28T06:38:26.654237Z",
     "shell.execute_reply.started": "2022-01-28T05:30:52.185334Z"
    },
    "papermill": {
     "duration": 21.462679,
     "end_time": "2022-01-28T06:38:26.654402",
     "exception": false,
     "start_time": "2022-01-28T06:38:05.191723",
     "status": "completed"
    },
    "tags": []
   },
   "outputs": [],
   "source": [
    "train = pd.read_csv('/kaggle/input/tabular-playground-series-dec-2021/train.csv')\n",
    "test = pd.read_csv('/kaggle/input/tabular-playground-series-dec-2021/test.csv')"
   ]
  },
  {
   "cell_type": "code",
   "execution_count": 4,
   "id": "20f01ebe",
   "metadata": {
    "execution": {
     "iopub.execute_input": "2022-01-28T06:38:26.705072Z",
     "iopub.status.busy": "2022-01-28T06:38:26.702820Z",
     "iopub.status.idle": "2022-01-28T06:38:29.938549Z",
     "shell.execute_reply": "2022-01-28T06:38:29.939087Z",
     "shell.execute_reply.started": "2022-01-28T05:31:05.348011Z"
    },
    "papermill": {
     "duration": 3.26479,
     "end_time": "2022-01-28T06:38:29.939248",
     "exception": false,
     "start_time": "2022-01-28T06:38:26.674458",
     "status": "completed"
    },
    "tags": []
   },
   "outputs": [
    {
     "data": {
      "text/html": [
       "<div>\n",
       "<style scoped>\n",
       "    .dataframe tbody tr th:only-of-type {\n",
       "        vertical-align: middle;\n",
       "    }\n",
       "\n",
       "    .dataframe tbody tr th {\n",
       "        vertical-align: top;\n",
       "    }\n",
       "\n",
       "    .dataframe thead th {\n",
       "        text-align: right;\n",
       "    }\n",
       "</style>\n",
       "<table border=\"1\" class=\"dataframe\">\n",
       "  <thead>\n",
       "    <tr style=\"text-align: right;\">\n",
       "      <th></th>\n",
       "      <th>Id</th>\n",
       "      <th>Elevation</th>\n",
       "      <th>Aspect</th>\n",
       "      <th>Slope</th>\n",
       "      <th>Horizontal_Distance_To_Hydrology</th>\n",
       "      <th>Vertical_Distance_To_Hydrology</th>\n",
       "      <th>Horizontal_Distance_To_Roadways</th>\n",
       "      <th>Hillshade_9am</th>\n",
       "      <th>Hillshade_Noon</th>\n",
       "      <th>Hillshade_3pm</th>\n",
       "      <th>Horizontal_Distance_To_Fire_Points</th>\n",
       "      <th>Wilderness_Area1</th>\n",
       "      <th>Wilderness_Area2</th>\n",
       "      <th>Wilderness_Area3</th>\n",
       "      <th>Wilderness_Area4</th>\n",
       "      <th>Soil_Type1</th>\n",
       "      <th>Soil_Type2</th>\n",
       "      <th>Soil_Type3</th>\n",
       "      <th>Soil_Type4</th>\n",
       "      <th>Soil_Type5</th>\n",
       "      <th>Soil_Type6</th>\n",
       "      <th>Soil_Type7</th>\n",
       "      <th>Soil_Type8</th>\n",
       "      <th>Soil_Type9</th>\n",
       "      <th>Soil_Type10</th>\n",
       "      <th>Soil_Type11</th>\n",
       "      <th>Soil_Type12</th>\n",
       "      <th>Soil_Type13</th>\n",
       "      <th>Soil_Type14</th>\n",
       "      <th>Soil_Type15</th>\n",
       "      <th>Soil_Type16</th>\n",
       "      <th>Soil_Type17</th>\n",
       "      <th>Soil_Type18</th>\n",
       "      <th>Soil_Type19</th>\n",
       "      <th>Soil_Type20</th>\n",
       "      <th>Soil_Type21</th>\n",
       "      <th>Soil_Type22</th>\n",
       "      <th>Soil_Type23</th>\n",
       "      <th>Soil_Type24</th>\n",
       "      <th>Soil_Type25</th>\n",
       "      <th>Soil_Type26</th>\n",
       "      <th>Soil_Type27</th>\n",
       "      <th>Soil_Type28</th>\n",
       "      <th>Soil_Type29</th>\n",
       "      <th>Soil_Type30</th>\n",
       "      <th>Soil_Type31</th>\n",
       "      <th>Soil_Type32</th>\n",
       "      <th>Soil_Type33</th>\n",
       "      <th>Soil_Type34</th>\n",
       "      <th>Soil_Type35</th>\n",
       "      <th>Soil_Type36</th>\n",
       "      <th>Soil_Type37</th>\n",
       "      <th>Soil_Type38</th>\n",
       "      <th>Soil_Type39</th>\n",
       "      <th>Soil_Type40</th>\n",
       "      <th>Cover_Type</th>\n",
       "    </tr>\n",
       "  </thead>\n",
       "  <tbody>\n",
       "    <tr>\n",
       "      <th>count</th>\n",
       "      <td>4000000.00000</td>\n",
       "      <td>4000000.00000</td>\n",
       "      <td>4000000.00000</td>\n",
       "      <td>4000000.00000</td>\n",
       "      <td>4000000.00000</td>\n",
       "      <td>4000000.00000</td>\n",
       "      <td>4000000.00000</td>\n",
       "      <td>4000000.00000</td>\n",
       "      <td>4000000.00000</td>\n",
       "      <td>4000000.00000</td>\n",
       "      <td>4000000.00000</td>\n",
       "      <td>4000000.00000</td>\n",
       "      <td>4000000.00000</td>\n",
       "      <td>4000000.00000</td>\n",
       "      <td>4000000.00000</td>\n",
       "      <td>4000000.00000</td>\n",
       "      <td>4000000.00000</td>\n",
       "      <td>4000000.00000</td>\n",
       "      <td>4000000.00000</td>\n",
       "      <td>4000000.00000</td>\n",
       "      <td>4000000.00000</td>\n",
       "      <td>4000000.00000</td>\n",
       "      <td>4000000.00000</td>\n",
       "      <td>4000000.00000</td>\n",
       "      <td>4000000.00000</td>\n",
       "      <td>4000000.00000</td>\n",
       "      <td>4000000.00000</td>\n",
       "      <td>4000000.00000</td>\n",
       "      <td>4000000.00000</td>\n",
       "      <td>4000000.00000</td>\n",
       "      <td>4000000.00000</td>\n",
       "      <td>4000000.00000</td>\n",
       "      <td>4000000.00000</td>\n",
       "      <td>4000000.00000</td>\n",
       "      <td>4000000.00000</td>\n",
       "      <td>4000000.00000</td>\n",
       "      <td>4000000.00000</td>\n",
       "      <td>4000000.00000</td>\n",
       "      <td>4000000.00000</td>\n",
       "      <td>4000000.00000</td>\n",
       "      <td>4000000.00000</td>\n",
       "      <td>4000000.00000</td>\n",
       "      <td>4000000.00000</td>\n",
       "      <td>4000000.00000</td>\n",
       "      <td>4000000.00000</td>\n",
       "      <td>4000000.00000</td>\n",
       "      <td>4000000.00000</td>\n",
       "      <td>4000000.00000</td>\n",
       "      <td>4000000.00000</td>\n",
       "      <td>4000000.00000</td>\n",
       "      <td>4000000.00000</td>\n",
       "      <td>4000000.00000</td>\n",
       "      <td>4000000.00000</td>\n",
       "      <td>4000000.00000</td>\n",
       "      <td>4000000.00000</td>\n",
       "      <td>4000000.00000</td>\n",
       "    </tr>\n",
       "    <tr>\n",
       "      <th>mean</th>\n",
       "      <td>1999999.50000</td>\n",
       "      <td>2980.19166</td>\n",
       "      <td>151.58567</td>\n",
       "      <td>15.09754</td>\n",
       "      <td>271.31544</td>\n",
       "      <td>51.66262</td>\n",
       "      <td>1766.64163</td>\n",
       "      <td>211.83754</td>\n",
       "      <td>221.06144</td>\n",
       "      <td>140.81087</td>\n",
       "      <td>1581.40681</td>\n",
       "      <td>0.26119</td>\n",
       "      <td>0.04166</td>\n",
       "      <td>0.65357</td>\n",
       "      <td>0.02182</td>\n",
       "      <td>0.01684</td>\n",
       "      <td>0.03090</td>\n",
       "      <td>0.00428</td>\n",
       "      <td>0.03791</td>\n",
       "      <td>0.01572</td>\n",
       "      <td>0.00797</td>\n",
       "      <td>0.00000</td>\n",
       "      <td>0.00290</td>\n",
       "      <td>0.01089</td>\n",
       "      <td>0.05454</td>\n",
       "      <td>0.02799</td>\n",
       "      <td>0.01829</td>\n",
       "      <td>0.03130</td>\n",
       "      <td>0.01498</td>\n",
       "      <td>0.00000</td>\n",
       "      <td>0.01589</td>\n",
       "      <td>0.02067</td>\n",
       "      <td>0.01344</td>\n",
       "      <td>0.01381</td>\n",
       "      <td>0.01737</td>\n",
       "      <td>0.01154</td>\n",
       "      <td>0.03135</td>\n",
       "      <td>0.04917</td>\n",
       "      <td>0.02502</td>\n",
       "      <td>0.00326</td>\n",
       "      <td>0.01353</td>\n",
       "      <td>0.01177</td>\n",
       "      <td>0.01071</td>\n",
       "      <td>0.02227</td>\n",
       "      <td>0.02887</td>\n",
       "      <td>0.02749</td>\n",
       "      <td>0.03746</td>\n",
       "      <td>0.03782</td>\n",
       "      <td>0.01200</td>\n",
       "      <td>0.01605</td>\n",
       "      <td>0.01071</td>\n",
       "      <td>0.01221</td>\n",
       "      <td>0.04075</td>\n",
       "      <td>0.03924</td>\n",
       "      <td>0.03162</td>\n",
       "      <td>1.77134</td>\n",
       "    </tr>\n",
       "    <tr>\n",
       "      <th>std</th>\n",
       "      <td>1154700.68272</td>\n",
       "      <td>289.04817</td>\n",
       "      <td>109.96112</td>\n",
       "      <td>8.54673</td>\n",
       "      <td>226.54968</td>\n",
       "      <td>68.21597</td>\n",
       "      <td>1315.60989</td>\n",
       "      <td>30.75996</td>\n",
       "      <td>22.23134</td>\n",
       "      <td>43.69864</td>\n",
       "      <td>1127.61617</td>\n",
       "      <td>0.43928</td>\n",
       "      <td>0.19981</td>\n",
       "      <td>0.47583</td>\n",
       "      <td>0.14609</td>\n",
       "      <td>0.12868</td>\n",
       "      <td>0.17304</td>\n",
       "      <td>0.06525</td>\n",
       "      <td>0.19099</td>\n",
       "      <td>0.12437</td>\n",
       "      <td>0.08893</td>\n",
       "      <td>0.00000</td>\n",
       "      <td>0.05377</td>\n",
       "      <td>0.10380</td>\n",
       "      <td>0.22708</td>\n",
       "      <td>0.16493</td>\n",
       "      <td>0.13400</td>\n",
       "      <td>0.17411</td>\n",
       "      <td>0.12146</td>\n",
       "      <td>0.00000</td>\n",
       "      <td>0.12504</td>\n",
       "      <td>0.14228</td>\n",
       "      <td>0.11513</td>\n",
       "      <td>0.11671</td>\n",
       "      <td>0.13064</td>\n",
       "      <td>0.10680</td>\n",
       "      <td>0.17425</td>\n",
       "      <td>0.21622</td>\n",
       "      <td>0.15619</td>\n",
       "      <td>0.05699</td>\n",
       "      <td>0.11552</td>\n",
       "      <td>0.10783</td>\n",
       "      <td>0.10292</td>\n",
       "      <td>0.14757</td>\n",
       "      <td>0.16743</td>\n",
       "      <td>0.16352</td>\n",
       "      <td>0.18989</td>\n",
       "      <td>0.19076</td>\n",
       "      <td>0.10886</td>\n",
       "      <td>0.12568</td>\n",
       "      <td>0.10295</td>\n",
       "      <td>0.10981</td>\n",
       "      <td>0.19771</td>\n",
       "      <td>0.19416</td>\n",
       "      <td>0.17498</td>\n",
       "      <td>0.89381</td>\n",
       "    </tr>\n",
       "    <tr>\n",
       "      <th>min</th>\n",
       "      <td>0.00000</td>\n",
       "      <td>1773.00000</td>\n",
       "      <td>-33.00000</td>\n",
       "      <td>-3.00000</td>\n",
       "      <td>-92.00000</td>\n",
       "      <td>-317.00000</td>\n",
       "      <td>-287.00000</td>\n",
       "      <td>-4.00000</td>\n",
       "      <td>49.00000</td>\n",
       "      <td>-53.00000</td>\n",
       "      <td>-277.00000</td>\n",
       "      <td>0.00000</td>\n",
       "      <td>0.00000</td>\n",
       "      <td>0.00000</td>\n",
       "      <td>0.00000</td>\n",
       "      <td>0.00000</td>\n",
       "      <td>0.00000</td>\n",
       "      <td>0.00000</td>\n",
       "      <td>0.00000</td>\n",
       "      <td>0.00000</td>\n",
       "      <td>0.00000</td>\n",
       "      <td>0.00000</td>\n",
       "      <td>0.00000</td>\n",
       "      <td>0.00000</td>\n",
       "      <td>0.00000</td>\n",
       "      <td>0.00000</td>\n",
       "      <td>0.00000</td>\n",
       "      <td>0.00000</td>\n",
       "      <td>0.00000</td>\n",
       "      <td>0.00000</td>\n",
       "      <td>0.00000</td>\n",
       "      <td>0.00000</td>\n",
       "      <td>0.00000</td>\n",
       "      <td>0.00000</td>\n",
       "      <td>0.00000</td>\n",
       "      <td>0.00000</td>\n",
       "      <td>0.00000</td>\n",
       "      <td>0.00000</td>\n",
       "      <td>0.00000</td>\n",
       "      <td>0.00000</td>\n",
       "      <td>0.00000</td>\n",
       "      <td>0.00000</td>\n",
       "      <td>0.00000</td>\n",
       "      <td>0.00000</td>\n",
       "      <td>0.00000</td>\n",
       "      <td>0.00000</td>\n",
       "      <td>0.00000</td>\n",
       "      <td>0.00000</td>\n",
       "      <td>0.00000</td>\n",
       "      <td>0.00000</td>\n",
       "      <td>0.00000</td>\n",
       "      <td>0.00000</td>\n",
       "      <td>0.00000</td>\n",
       "      <td>0.00000</td>\n",
       "      <td>0.00000</td>\n",
       "      <td>1.00000</td>\n",
       "    </tr>\n",
       "    <tr>\n",
       "      <th>25%</th>\n",
       "      <td>999999.75000</td>\n",
       "      <td>2760.00000</td>\n",
       "      <td>60.00000</td>\n",
       "      <td>9.00000</td>\n",
       "      <td>110.00000</td>\n",
       "      <td>4.00000</td>\n",
       "      <td>822.00000</td>\n",
       "      <td>198.00000</td>\n",
       "      <td>210.00000</td>\n",
       "      <td>115.00000</td>\n",
       "      <td>781.00000</td>\n",
       "      <td>0.00000</td>\n",
       "      <td>0.00000</td>\n",
       "      <td>0.00000</td>\n",
       "      <td>0.00000</td>\n",
       "      <td>0.00000</td>\n",
       "      <td>0.00000</td>\n",
       "      <td>0.00000</td>\n",
       "      <td>0.00000</td>\n",
       "      <td>0.00000</td>\n",
       "      <td>0.00000</td>\n",
       "      <td>0.00000</td>\n",
       "      <td>0.00000</td>\n",
       "      <td>0.00000</td>\n",
       "      <td>0.00000</td>\n",
       "      <td>0.00000</td>\n",
       "      <td>0.00000</td>\n",
       "      <td>0.00000</td>\n",
       "      <td>0.00000</td>\n",
       "      <td>0.00000</td>\n",
       "      <td>0.00000</td>\n",
       "      <td>0.00000</td>\n",
       "      <td>0.00000</td>\n",
       "      <td>0.00000</td>\n",
       "      <td>0.00000</td>\n",
       "      <td>0.00000</td>\n",
       "      <td>0.00000</td>\n",
       "      <td>0.00000</td>\n",
       "      <td>0.00000</td>\n",
       "      <td>0.00000</td>\n",
       "      <td>0.00000</td>\n",
       "      <td>0.00000</td>\n",
       "      <td>0.00000</td>\n",
       "      <td>0.00000</td>\n",
       "      <td>0.00000</td>\n",
       "      <td>0.00000</td>\n",
       "      <td>0.00000</td>\n",
       "      <td>0.00000</td>\n",
       "      <td>0.00000</td>\n",
       "      <td>0.00000</td>\n",
       "      <td>0.00000</td>\n",
       "      <td>0.00000</td>\n",
       "      <td>0.00000</td>\n",
       "      <td>0.00000</td>\n",
       "      <td>0.00000</td>\n",
       "      <td>1.00000</td>\n",
       "    </tr>\n",
       "    <tr>\n",
       "      <th>50%</th>\n",
       "      <td>1999999.50000</td>\n",
       "      <td>2966.00000</td>\n",
       "      <td>123.00000</td>\n",
       "      <td>14.00000</td>\n",
       "      <td>213.00000</td>\n",
       "      <td>31.00000</td>\n",
       "      <td>1436.00000</td>\n",
       "      <td>218.00000</td>\n",
       "      <td>224.00000</td>\n",
       "      <td>142.00000</td>\n",
       "      <td>1361.00000</td>\n",
       "      <td>0.00000</td>\n",
       "      <td>0.00000</td>\n",
       "      <td>1.00000</td>\n",
       "      <td>0.00000</td>\n",
       "      <td>0.00000</td>\n",
       "      <td>0.00000</td>\n",
       "      <td>0.00000</td>\n",
       "      <td>0.00000</td>\n",
       "      <td>0.00000</td>\n",
       "      <td>0.00000</td>\n",
       "      <td>0.00000</td>\n",
       "      <td>0.00000</td>\n",
       "      <td>0.00000</td>\n",
       "      <td>0.00000</td>\n",
       "      <td>0.00000</td>\n",
       "      <td>0.00000</td>\n",
       "      <td>0.00000</td>\n",
       "      <td>0.00000</td>\n",
       "      <td>0.00000</td>\n",
       "      <td>0.00000</td>\n",
       "      <td>0.00000</td>\n",
       "      <td>0.00000</td>\n",
       "      <td>0.00000</td>\n",
       "      <td>0.00000</td>\n",
       "      <td>0.00000</td>\n",
       "      <td>0.00000</td>\n",
       "      <td>0.00000</td>\n",
       "      <td>0.00000</td>\n",
       "      <td>0.00000</td>\n",
       "      <td>0.00000</td>\n",
       "      <td>0.00000</td>\n",
       "      <td>0.00000</td>\n",
       "      <td>0.00000</td>\n",
       "      <td>0.00000</td>\n",
       "      <td>0.00000</td>\n",
       "      <td>0.00000</td>\n",
       "      <td>0.00000</td>\n",
       "      <td>0.00000</td>\n",
       "      <td>0.00000</td>\n",
       "      <td>0.00000</td>\n",
       "      <td>0.00000</td>\n",
       "      <td>0.00000</td>\n",
       "      <td>0.00000</td>\n",
       "      <td>0.00000</td>\n",
       "      <td>2.00000</td>\n",
       "    </tr>\n",
       "    <tr>\n",
       "      <th>75%</th>\n",
       "      <td>2999999.25000</td>\n",
       "      <td>3217.00000</td>\n",
       "      <td>247.00000</td>\n",
       "      <td>20.00000</td>\n",
       "      <td>361.00000</td>\n",
       "      <td>78.00000</td>\n",
       "      <td>2365.00000</td>\n",
       "      <td>233.00000</td>\n",
       "      <td>237.00000</td>\n",
       "      <td>169.00000</td>\n",
       "      <td>2084.00000</td>\n",
       "      <td>1.00000</td>\n",
       "      <td>0.00000</td>\n",
       "      <td>1.00000</td>\n",
       "      <td>0.00000</td>\n",
       "      <td>0.00000</td>\n",
       "      <td>0.00000</td>\n",
       "      <td>0.00000</td>\n",
       "      <td>0.00000</td>\n",
       "      <td>0.00000</td>\n",
       "      <td>0.00000</td>\n",
       "      <td>0.00000</td>\n",
       "      <td>0.00000</td>\n",
       "      <td>0.00000</td>\n",
       "      <td>0.00000</td>\n",
       "      <td>0.00000</td>\n",
       "      <td>0.00000</td>\n",
       "      <td>0.00000</td>\n",
       "      <td>0.00000</td>\n",
       "      <td>0.00000</td>\n",
       "      <td>0.00000</td>\n",
       "      <td>0.00000</td>\n",
       "      <td>0.00000</td>\n",
       "      <td>0.00000</td>\n",
       "      <td>0.00000</td>\n",
       "      <td>0.00000</td>\n",
       "      <td>0.00000</td>\n",
       "      <td>0.00000</td>\n",
       "      <td>0.00000</td>\n",
       "      <td>0.00000</td>\n",
       "      <td>0.00000</td>\n",
       "      <td>0.00000</td>\n",
       "      <td>0.00000</td>\n",
       "      <td>0.00000</td>\n",
       "      <td>0.00000</td>\n",
       "      <td>0.00000</td>\n",
       "      <td>0.00000</td>\n",
       "      <td>0.00000</td>\n",
       "      <td>0.00000</td>\n",
       "      <td>0.00000</td>\n",
       "      <td>0.00000</td>\n",
       "      <td>0.00000</td>\n",
       "      <td>0.00000</td>\n",
       "      <td>0.00000</td>\n",
       "      <td>0.00000</td>\n",
       "      <td>2.00000</td>\n",
       "    </tr>\n",
       "    <tr>\n",
       "      <th>max</th>\n",
       "      <td>3999999.00000</td>\n",
       "      <td>4383.00000</td>\n",
       "      <td>407.00000</td>\n",
       "      <td>64.00000</td>\n",
       "      <td>1602.00000</td>\n",
       "      <td>647.00000</td>\n",
       "      <td>7666.00000</td>\n",
       "      <td>301.00000</td>\n",
       "      <td>279.00000</td>\n",
       "      <td>272.00000</td>\n",
       "      <td>8075.00000</td>\n",
       "      <td>1.00000</td>\n",
       "      <td>1.00000</td>\n",
       "      <td>1.00000</td>\n",
       "      <td>1.00000</td>\n",
       "      <td>1.00000</td>\n",
       "      <td>1.00000</td>\n",
       "      <td>1.00000</td>\n",
       "      <td>1.00000</td>\n",
       "      <td>1.00000</td>\n",
       "      <td>1.00000</td>\n",
       "      <td>0.00000</td>\n",
       "      <td>1.00000</td>\n",
       "      <td>1.00000</td>\n",
       "      <td>1.00000</td>\n",
       "      <td>1.00000</td>\n",
       "      <td>1.00000</td>\n",
       "      <td>1.00000</td>\n",
       "      <td>1.00000</td>\n",
       "      <td>0.00000</td>\n",
       "      <td>1.00000</td>\n",
       "      <td>1.00000</td>\n",
       "      <td>1.00000</td>\n",
       "      <td>1.00000</td>\n",
       "      <td>1.00000</td>\n",
       "      <td>1.00000</td>\n",
       "      <td>1.00000</td>\n",
       "      <td>1.00000</td>\n",
       "      <td>1.00000</td>\n",
       "      <td>1.00000</td>\n",
       "      <td>1.00000</td>\n",
       "      <td>1.00000</td>\n",
       "      <td>1.00000</td>\n",
       "      <td>1.00000</td>\n",
       "      <td>1.00000</td>\n",
       "      <td>1.00000</td>\n",
       "      <td>1.00000</td>\n",
       "      <td>1.00000</td>\n",
       "      <td>1.00000</td>\n",
       "      <td>1.00000</td>\n",
       "      <td>1.00000</td>\n",
       "      <td>1.00000</td>\n",
       "      <td>1.00000</td>\n",
       "      <td>1.00000</td>\n",
       "      <td>1.00000</td>\n",
       "      <td>7.00000</td>\n",
       "    </tr>\n",
       "  </tbody>\n",
       "</table>\n",
       "</div>"
      ],
      "text/plain": [
       "                  Id      Elevation         Aspect          Slope  \\\n",
       "count  4000000.00000  4000000.00000  4000000.00000  4000000.00000   \n",
       "mean   1999999.50000     2980.19166      151.58567       15.09754   \n",
       "std    1154700.68272      289.04817      109.96112        8.54673   \n",
       "min          0.00000     1773.00000      -33.00000       -3.00000   \n",
       "25%     999999.75000     2760.00000       60.00000        9.00000   \n",
       "50%    1999999.50000     2966.00000      123.00000       14.00000   \n",
       "75%    2999999.25000     3217.00000      247.00000       20.00000   \n",
       "max    3999999.00000     4383.00000      407.00000       64.00000   \n",
       "\n",
       "      Horizontal_Distance_To_Hydrology Vertical_Distance_To_Hydrology  \\\n",
       "count                    4000000.00000                  4000000.00000   \n",
       "mean                         271.31544                       51.66262   \n",
       "std                          226.54968                       68.21597   \n",
       "min                          -92.00000                     -317.00000   \n",
       "25%                          110.00000                        4.00000   \n",
       "50%                          213.00000                       31.00000   \n",
       "75%                          361.00000                       78.00000   \n",
       "max                         1602.00000                      647.00000   \n",
       "\n",
       "      Horizontal_Distance_To_Roadways  Hillshade_9am Hillshade_Noon  \\\n",
       "count                   4000000.00000  4000000.00000  4000000.00000   \n",
       "mean                       1766.64163      211.83754      221.06144   \n",
       "std                        1315.60989       30.75996       22.23134   \n",
       "min                        -287.00000       -4.00000       49.00000   \n",
       "25%                         822.00000      198.00000      210.00000   \n",
       "50%                        1436.00000      218.00000      224.00000   \n",
       "75%                        2365.00000      233.00000      237.00000   \n",
       "max                        7666.00000      301.00000      279.00000   \n",
       "\n",
       "       Hillshade_3pm Horizontal_Distance_To_Fire_Points Wilderness_Area1  \\\n",
       "count  4000000.00000                      4000000.00000    4000000.00000   \n",
       "mean       140.81087                         1581.40681          0.26119   \n",
       "std         43.69864                         1127.61617          0.43928   \n",
       "min        -53.00000                         -277.00000          0.00000   \n",
       "25%        115.00000                          781.00000          0.00000   \n",
       "50%        142.00000                         1361.00000          0.00000   \n",
       "75%        169.00000                         2084.00000          1.00000   \n",
       "max        272.00000                         8075.00000          1.00000   \n",
       "\n",
       "      Wilderness_Area2 Wilderness_Area3 Wilderness_Area4     Soil_Type1  \\\n",
       "count    4000000.00000    4000000.00000    4000000.00000  4000000.00000   \n",
       "mean           0.04166          0.65357          0.02182        0.01684   \n",
       "std            0.19981          0.47583          0.14609        0.12868   \n",
       "min            0.00000          0.00000          0.00000        0.00000   \n",
       "25%            0.00000          0.00000          0.00000        0.00000   \n",
       "50%            0.00000          1.00000          0.00000        0.00000   \n",
       "75%            0.00000          1.00000          0.00000        0.00000   \n",
       "max            1.00000          1.00000          1.00000        1.00000   \n",
       "\n",
       "          Soil_Type2     Soil_Type3     Soil_Type4     Soil_Type5  \\\n",
       "count  4000000.00000  4000000.00000  4000000.00000  4000000.00000   \n",
       "mean         0.03090        0.00428        0.03791        0.01572   \n",
       "std          0.17304        0.06525        0.19099        0.12437   \n",
       "min          0.00000        0.00000        0.00000        0.00000   \n",
       "25%          0.00000        0.00000        0.00000        0.00000   \n",
       "50%          0.00000        0.00000        0.00000        0.00000   \n",
       "75%          0.00000        0.00000        0.00000        0.00000   \n",
       "max          1.00000        1.00000        1.00000        1.00000   \n",
       "\n",
       "          Soil_Type6     Soil_Type7     Soil_Type8     Soil_Type9  \\\n",
       "count  4000000.00000  4000000.00000  4000000.00000  4000000.00000   \n",
       "mean         0.00797        0.00000        0.00290        0.01089   \n",
       "std          0.08893        0.00000        0.05377        0.10380   \n",
       "min          0.00000        0.00000        0.00000        0.00000   \n",
       "25%          0.00000        0.00000        0.00000        0.00000   \n",
       "50%          0.00000        0.00000        0.00000        0.00000   \n",
       "75%          0.00000        0.00000        0.00000        0.00000   \n",
       "max          1.00000        0.00000        1.00000        1.00000   \n",
       "\n",
       "         Soil_Type10    Soil_Type11    Soil_Type12    Soil_Type13  \\\n",
       "count  4000000.00000  4000000.00000  4000000.00000  4000000.00000   \n",
       "mean         0.05454        0.02799        0.01829        0.03130   \n",
       "std          0.22708        0.16493        0.13400        0.17411   \n",
       "min          0.00000        0.00000        0.00000        0.00000   \n",
       "25%          0.00000        0.00000        0.00000        0.00000   \n",
       "50%          0.00000        0.00000        0.00000        0.00000   \n",
       "75%          0.00000        0.00000        0.00000        0.00000   \n",
       "max          1.00000        1.00000        1.00000        1.00000   \n",
       "\n",
       "         Soil_Type14    Soil_Type15    Soil_Type16    Soil_Type17  \\\n",
       "count  4000000.00000  4000000.00000  4000000.00000  4000000.00000   \n",
       "mean         0.01498        0.00000        0.01589        0.02067   \n",
       "std          0.12146        0.00000        0.12504        0.14228   \n",
       "min          0.00000        0.00000        0.00000        0.00000   \n",
       "25%          0.00000        0.00000        0.00000        0.00000   \n",
       "50%          0.00000        0.00000        0.00000        0.00000   \n",
       "75%          0.00000        0.00000        0.00000        0.00000   \n",
       "max          1.00000        0.00000        1.00000        1.00000   \n",
       "\n",
       "         Soil_Type18    Soil_Type19    Soil_Type20    Soil_Type21  \\\n",
       "count  4000000.00000  4000000.00000  4000000.00000  4000000.00000   \n",
       "mean         0.01344        0.01381        0.01737        0.01154   \n",
       "std          0.11513        0.11671        0.13064        0.10680   \n",
       "min          0.00000        0.00000        0.00000        0.00000   \n",
       "25%          0.00000        0.00000        0.00000        0.00000   \n",
       "50%          0.00000        0.00000        0.00000        0.00000   \n",
       "75%          0.00000        0.00000        0.00000        0.00000   \n",
       "max          1.00000        1.00000        1.00000        1.00000   \n",
       "\n",
       "         Soil_Type22    Soil_Type23    Soil_Type24    Soil_Type25  \\\n",
       "count  4000000.00000  4000000.00000  4000000.00000  4000000.00000   \n",
       "mean         0.03135        0.04917        0.02502        0.00326   \n",
       "std          0.17425        0.21622        0.15619        0.05699   \n",
       "min          0.00000        0.00000        0.00000        0.00000   \n",
       "25%          0.00000        0.00000        0.00000        0.00000   \n",
       "50%          0.00000        0.00000        0.00000        0.00000   \n",
       "75%          0.00000        0.00000        0.00000        0.00000   \n",
       "max          1.00000        1.00000        1.00000        1.00000   \n",
       "\n",
       "         Soil_Type26    Soil_Type27    Soil_Type28    Soil_Type29  \\\n",
       "count  4000000.00000  4000000.00000  4000000.00000  4000000.00000   \n",
       "mean         0.01353        0.01177        0.01071        0.02227   \n",
       "std          0.11552        0.10783        0.10292        0.14757   \n",
       "min          0.00000        0.00000        0.00000        0.00000   \n",
       "25%          0.00000        0.00000        0.00000        0.00000   \n",
       "50%          0.00000        0.00000        0.00000        0.00000   \n",
       "75%          0.00000        0.00000        0.00000        0.00000   \n",
       "max          1.00000        1.00000        1.00000        1.00000   \n",
       "\n",
       "         Soil_Type30    Soil_Type31    Soil_Type32    Soil_Type33  \\\n",
       "count  4000000.00000  4000000.00000  4000000.00000  4000000.00000   \n",
       "mean         0.02887        0.02749        0.03746        0.03782   \n",
       "std          0.16743        0.16352        0.18989        0.19076   \n",
       "min          0.00000        0.00000        0.00000        0.00000   \n",
       "25%          0.00000        0.00000        0.00000        0.00000   \n",
       "50%          0.00000        0.00000        0.00000        0.00000   \n",
       "75%          0.00000        0.00000        0.00000        0.00000   \n",
       "max          1.00000        1.00000        1.00000        1.00000   \n",
       "\n",
       "         Soil_Type34    Soil_Type35    Soil_Type36    Soil_Type37  \\\n",
       "count  4000000.00000  4000000.00000  4000000.00000  4000000.00000   \n",
       "mean         0.01200        0.01605        0.01071        0.01221   \n",
       "std          0.10886        0.12568        0.10295        0.10981   \n",
       "min          0.00000        0.00000        0.00000        0.00000   \n",
       "25%          0.00000        0.00000        0.00000        0.00000   \n",
       "50%          0.00000        0.00000        0.00000        0.00000   \n",
       "75%          0.00000        0.00000        0.00000        0.00000   \n",
       "max          1.00000        1.00000        1.00000        1.00000   \n",
       "\n",
       "         Soil_Type38    Soil_Type39    Soil_Type40     Cover_Type  \n",
       "count  4000000.00000  4000000.00000  4000000.00000  4000000.00000  \n",
       "mean         0.04075        0.03924        0.03162        1.77134  \n",
       "std          0.19771        0.19416        0.17498        0.89381  \n",
       "min          0.00000        0.00000        0.00000        1.00000  \n",
       "25%          0.00000        0.00000        0.00000        1.00000  \n",
       "50%          0.00000        0.00000        0.00000        2.00000  \n",
       "75%          0.00000        0.00000        0.00000        2.00000  \n",
       "max          1.00000        1.00000        1.00000        7.00000  "
      ]
     },
     "execution_count": 4,
     "metadata": {},
     "output_type": "execute_result"
    }
   ],
   "source": [
    "pd.options.display.max_columns = train.shape[1]\n",
    "train.describe(include = 'all').apply(lambda s: s.apply('{0:.5f}'.format))"
   ]
  },
  {
   "cell_type": "markdown",
   "id": "94358696",
   "metadata": {
    "papermill": {
     "duration": 0.014106,
     "end_time": "2022-01-28T06:38:29.975303",
     "exception": false,
     "start_time": "2022-01-28T06:38:29.961197",
     "status": "completed"
    },
    "tags": []
   },
   "source": [
    "# Dropping unncecary columns"
   ]
  },
  {
   "cell_type": "code",
   "execution_count": 5,
   "id": "60e50686",
   "metadata": {
    "execution": {
     "iopub.execute_input": "2022-01-28T06:38:30.261196Z",
     "iopub.status.busy": "2022-01-28T06:38:30.011303Z",
     "iopub.status.idle": "2022-01-28T06:38:30.888322Z",
     "shell.execute_reply": "2022-01-28T06:38:30.888809Z",
     "shell.execute_reply.started": "2022-01-28T05:31:08.830651Z"
    },
    "papermill": {
     "duration": 0.899954,
     "end_time": "2022-01-28T06:38:30.889005",
     "exception": false,
     "start_time": "2022-01-28T06:38:29.989051",
     "status": "completed"
    },
    "tags": []
   },
   "outputs": [],
   "source": [
    "train.drop('Soil_Type7', axis=1, inplace=True, errors='ignore')\n",
    "train.drop('Soil_Type15', axis=1, inplace=True, errors='ignore')\n",
    "train.drop('Id', axis=1, inplace=True, errors='ignore')\n",
    "test.drop('Soil_Type7',axis=1, inplace=True, errors='ignore')\n",
    "test.drop('Soil_Type15', axis=1, inplace=True, errors='ignore')\n",
    "test_Id = test.Id\n",
    "test.drop('Id', axis=1, inplace=True, errors='ignore')"
   ]
  },
  {
   "cell_type": "markdown",
   "id": "d100a6ba",
   "metadata": {
    "papermill": {
     "duration": 0.020823,
     "end_time": "2022-01-28T06:38:30.932118",
     "exception": false,
     "start_time": "2022-01-28T06:38:30.911295",
     "status": "completed"
    },
    "tags": []
   },
   "source": [
    "# Diving target variable"
   ]
  },
  {
   "cell_type": "code",
   "execution_count": 6,
   "id": "090218c7",
   "metadata": {
    "execution": {
     "iopub.execute_input": "2022-01-28T06:38:30.978434Z",
     "iopub.status.busy": "2022-01-28T06:38:30.977637Z",
     "iopub.status.idle": "2022-01-28T06:38:31.288181Z",
     "shell.execute_reply": "2022-01-28T06:38:31.288679Z",
     "shell.execute_reply.started": "2022-01-28T05:31:09.951378Z"
    },
    "papermill": {
     "duration": 0.335775,
     "end_time": "2022-01-28T06:38:31.288843",
     "exception": false,
     "start_time": "2022-01-28T06:38:30.953068",
     "status": "completed"
    },
    "tags": []
   },
   "outputs": [],
   "source": [
    "Y = pd.get_dummies(train.Cover_Type)\n",
    "X = train.drop(['Cover_Type'], axis=1)"
   ]
  },
  {
   "cell_type": "markdown",
   "id": "c90115dc",
   "metadata": {
    "papermill": {
     "duration": 0.021558,
     "end_time": "2022-01-28T06:38:31.332069",
     "exception": false,
     "start_time": "2022-01-28T06:38:31.310511",
     "status": "completed"
    },
    "tags": []
   },
   "source": [
    "# Converting to numpy array"
   ]
  },
  {
   "cell_type": "code",
   "execution_count": 7,
   "id": "3b308cc1",
   "metadata": {
    "execution": {
     "iopub.execute_input": "2022-01-28T06:38:31.379218Z",
     "iopub.status.busy": "2022-01-28T06:38:31.378542Z",
     "iopub.status.idle": "2022-01-28T06:38:31.380834Z",
     "shell.execute_reply": "2022-01-28T06:38:31.381346Z",
     "shell.execute_reply.started": "2022-01-28T05:31:54.970293Z"
    },
    "papermill": {
     "duration": 0.028325,
     "end_time": "2022-01-28T06:38:31.381476",
     "exception": false,
     "start_time": "2022-01-28T06:38:31.353151",
     "status": "completed"
    },
    "tags": []
   },
   "outputs": [],
   "source": [
    "X = X.to_numpy()\n",
    "Y = Y.to_numpy()"
   ]
  },
  {
   "cell_type": "markdown",
   "id": "cd396d28",
   "metadata": {
    "papermill": {
     "duration": 0.020732,
     "end_time": "2022-01-28T06:38:31.424832",
     "exception": false,
     "start_time": "2022-01-28T06:38:31.404100",
     "status": "completed"
    },
    "tags": []
   },
   "source": [
    "# Train_test_split data"
   ]
  },
  {
   "cell_type": "code",
   "execution_count": 8,
   "id": "6135f63e",
   "metadata": {
    "execution": {
     "iopub.execute_input": "2022-01-28T06:38:31.473849Z",
     "iopub.status.busy": "2022-01-28T06:38:31.469313Z",
     "iopub.status.idle": "2022-01-28T06:38:34.095262Z",
     "shell.execute_reply": "2022-01-28T06:38:34.095747Z",
     "shell.execute_reply.started": "2022-01-28T05:31:58.941884Z"
    },
    "papermill": {
     "duration": 2.650095,
     "end_time": "2022-01-28T06:38:34.095937",
     "exception": false,
     "start_time": "2022-01-28T06:38:31.445842",
     "status": "completed"
    },
    "tags": []
   },
   "outputs": [],
   "source": [
    "X_train, X_val, Y_train, Y_val = train_test_split(X, Y, test_size=0.2, random_state=10)"
   ]
  },
  {
   "cell_type": "markdown",
   "id": "d47c0837",
   "metadata": {
    "papermill": {
     "duration": 0.025995,
     "end_time": "2022-01-28T06:38:34.147864",
     "exception": false,
     "start_time": "2022-01-28T06:38:34.121869",
     "status": "completed"
    },
    "tags": []
   },
   "source": [
    "# Random Forest"
   ]
  },
  {
   "cell_type": "code",
   "execution_count": 9,
   "id": "6ea3c5ab",
   "metadata": {
    "execution": {
     "iopub.execute_input": "2022-01-28T06:38:34.200636Z",
     "iopub.status.busy": "2022-01-28T06:38:34.200025Z",
     "iopub.status.idle": "2022-01-28T06:43:52.581790Z",
     "shell.execute_reply": "2022-01-28T06:43:52.581146Z",
     "shell.execute_reply.started": "2022-01-28T05:32:13.327614Z"
    },
    "papermill": {
     "duration": 318.408813,
     "end_time": "2022-01-28T06:43:52.581953",
     "exception": false,
     "start_time": "2022-01-28T06:38:34.173140",
     "status": "completed"
    },
    "tags": []
   },
   "outputs": [
    {
     "name": "stderr",
     "output_type": "stream",
     "text": [
      "[Parallel(n_jobs=-1)]: Using backend ThreadingBackend with 4 concurrent workers.\n"
     ]
    },
    {
     "name": "stdout",
     "output_type": "stream",
     "text": [
      "building tree 1 of 10building tree 2 of 10\n",
      "building tree 3 of 10\n",
      "\n",
      "building tree 4 of 10\n",
      "building tree 5 of 10\n",
      "building tree 6 of 10\n",
      "building tree 7 of 10\n",
      "building tree 8 of 10\n",
      "building tree 9 of 10\n",
      "building tree 10 of 10\n"
     ]
    },
    {
     "name": "stderr",
     "output_type": "stream",
     "text": [
      "[Parallel(n_jobs=-1)]: Done  10 out of  10 | elapsed:  5.3min finished\n"
     ]
    },
    {
     "data": {
      "text/plain": [
       "RandomForestRegressor(n_estimators=10, n_jobs=-1, random_state=0, verbose=2)"
      ]
     },
     "execution_count": 9,
     "metadata": {},
     "output_type": "execute_result"
    }
   ],
   "source": [
    "from sklearn.ensemble import RandomForestRegressor\n",
    "import sklearn\n",
    "RF = RandomForestRegressor(n_estimators = 10, random_state = 0, n_jobs=-1, verbose=2) # max_depth, min_samples_split, \n",
    "RF.fit(X_train, Y_train)"
   ]
  },
  {
   "cell_type": "code",
   "execution_count": 10,
   "id": "460c7636",
   "metadata": {
    "execution": {
     "iopub.execute_input": "2022-01-28T06:43:52.636429Z",
     "iopub.status.busy": "2022-01-28T06:43:52.635202Z",
     "iopub.status.idle": "2022-01-28T06:43:53.407417Z",
     "shell.execute_reply": "2022-01-28T06:43:53.406764Z",
     "shell.execute_reply.started": "2022-01-28T05:38:43.641668Z"
    },
    "papermill": {
     "duration": 0.79994,
     "end_time": "2022-01-28T06:43:53.407541",
     "exception": false,
     "start_time": "2022-01-28T06:43:52.607601",
     "status": "completed"
    },
    "tags": []
   },
   "outputs": [
    {
     "name": "stderr",
     "output_type": "stream",
     "text": [
      "[Parallel(n_jobs=4)]: Using backend ThreadingBackend with 4 concurrent workers.\n",
      "[Parallel(n_jobs=4)]: Done  10 out of  10 | elapsed:    0.7s finished\n"
     ]
    }
   ],
   "source": [
    "predicted = RF.predict(X_val)"
   ]
  },
  {
   "cell_type": "markdown",
   "id": "2390431d",
   "metadata": {
    "papermill": {
     "duration": 0.02617,
     "end_time": "2022-01-28T06:43:53.459655",
     "exception": false,
     "start_time": "2022-01-28T06:43:53.433485",
     "status": "completed"
    },
    "tags": []
   },
   "source": [
    "# Decoding one-hot-encoder"
   ]
  },
  {
   "cell_type": "code",
   "execution_count": 11,
   "id": "5d9c8d56",
   "metadata": {
    "execution": {
     "iopub.execute_input": "2022-01-28T06:43:53.514341Z",
     "iopub.status.busy": "2022-01-28T06:43:53.513551Z",
     "iopub.status.idle": "2022-01-28T06:44:04.900368Z",
     "shell.execute_reply": "2022-01-28T06:44:04.900853Z",
     "shell.execute_reply.started": "2022-01-28T05:55:49.765375Z"
    },
    "papermill": {
     "duration": 11.415411,
     "end_time": "2022-01-28T06:44:04.901056",
     "exception": false,
     "start_time": "2022-01-28T06:43:53.485645",
     "status": "completed"
    },
    "tags": []
   },
   "outputs": [],
   "source": [
    "for i in range(len(predicted)):\n",
    "    mx = max(predicted[i])\n",
    "    for j in range(len(predicted[i])):\n",
    "        if predicted[i][j] == mx:\n",
    "            predicted[i][j] = 1\n",
    "        else:\n",
    "            predicted[i][j] = 0"
   ]
  },
  {
   "cell_type": "markdown",
   "id": "b030e0a2",
   "metadata": {
    "papermill": {
     "duration": 0.025922,
     "end_time": "2022-01-28T06:44:04.953292",
     "exception": false,
     "start_time": "2022-01-28T06:44:04.927370",
     "status": "completed"
    },
    "tags": []
   },
   "source": [
    "# Accuracy"
   ]
  },
  {
   "cell_type": "code",
   "execution_count": 12,
   "id": "8a1e18dc",
   "metadata": {
    "execution": {
     "iopub.execute_input": "2022-01-28T06:44:05.011163Z",
     "iopub.status.busy": "2022-01-28T06:44:05.010495Z",
     "iopub.status.idle": "2022-01-28T06:44:07.727707Z",
     "shell.execute_reply": "2022-01-28T06:44:07.728105Z",
     "shell.execute_reply.started": "2022-01-28T06:07:37.969863Z"
    },
    "papermill": {
     "duration": 2.748823,
     "end_time": "2022-01-28T06:44:07.728252",
     "exception": false,
     "start_time": "2022-01-28T06:44:04.979429",
     "status": "completed"
    },
    "tags": []
   },
   "outputs": [
    {
     "name": "stdout",
     "output_type": "stream",
     "text": [
      "Validation Accuracy: 0.94758875%\n"
     ]
    }
   ],
   "source": [
    "count = 0\n",
    "for i in range(len(predicted)):\n",
    "    if not (predicted[i] == Y_val[i]).all():\n",
    "        count += 1\n",
    "print(f\"Validation Accuracy: {1 - (count/len(predicted))}%\")"
   ]
  },
  {
   "cell_type": "markdown",
   "id": "6242d12b",
   "metadata": {
    "papermill": {
     "duration": 0.017691,
     "end_time": "2022-01-28T06:44:07.763859",
     "exception": false,
     "start_time": "2022-01-28T06:44:07.746168",
     "status": "completed"
    },
    "tags": []
   },
   "source": [
    "# Prediction test-file"
   ]
  },
  {
   "cell_type": "code",
   "execution_count": 13,
   "id": "2391012e",
   "metadata": {
    "execution": {
     "iopub.execute_input": "2022-01-28T06:44:07.803173Z",
     "iopub.status.busy": "2022-01-28T06:44:07.802391Z",
     "iopub.status.idle": "2022-01-28T06:44:13.646752Z",
     "shell.execute_reply": "2022-01-28T06:44:13.647158Z",
     "shell.execute_reply.started": "2022-01-28T06:25:50.114130Z"
    },
    "papermill": {
     "duration": 5.866108,
     "end_time": "2022-01-28T06:44:13.647299",
     "exception": false,
     "start_time": "2022-01-28T06:44:07.781191",
     "status": "completed"
    },
    "tags": []
   },
   "outputs": [
    {
     "name": "stderr",
     "output_type": "stream",
     "text": [
      "[Parallel(n_jobs=4)]: Using backend ThreadingBackend with 4 concurrent workers.\n",
      "[Parallel(n_jobs=4)]: Done  10 out of  10 | elapsed:    1.0s finished\n"
     ]
    }
   ],
   "source": [
    "file_prediction = np.zeros([len(test_Id), 1], dtype=int)\n",
    "test_prediction = RF.predict(test)\n",
    "\n",
    "for i in range(len(test_prediction)):\n",
    "    file_prediction[i] = np.argmax(test_prediction[i], axis=0) + 1"
   ]
  },
  {
   "cell_type": "markdown",
   "id": "e9f8dbdb",
   "metadata": {
    "papermill": {
     "duration": 0.017572,
     "end_time": "2022-01-28T06:44:13.683177",
     "exception": false,
     "start_time": "2022-01-28T06:44:13.665605",
     "status": "completed"
    },
    "tags": []
   },
   "source": [
    "# Generating output file"
   ]
  },
  {
   "cell_type": "code",
   "execution_count": 14,
   "id": "908c931c",
   "metadata": {
    "execution": {
     "iopub.execute_input": "2022-01-28T06:44:13.722344Z",
     "iopub.status.busy": "2022-01-28T06:44:13.720404Z",
     "iopub.status.idle": "2022-01-28T06:44:14.755482Z",
     "shell.execute_reply": "2022-01-28T06:44:14.755017Z",
     "shell.execute_reply.started": "2022-01-28T06:34:41.108743Z"
    },
    "papermill": {
     "duration": 1.054898,
     "end_time": "2022-01-28T06:44:14.755603",
     "exception": false,
     "start_time": "2022-01-28T06:44:13.700705",
     "status": "completed"
    },
    "tags": []
   },
   "outputs": [],
   "source": [
    "output = pd.DataFrame({'Id': test_Id, 'Cover_Type': file_prediction.flatten()})\n",
    "output.to_csv('submission.csv', index=False)"
   ]
  }
 ],
 "metadata": {
  "kernelspec": {
   "display_name": "Python 3",
   "language": "python",
   "name": "python3"
  },
  "language_info": {
   "codemirror_mode": {
    "name": "ipython",
    "version": 3
   },
   "file_extension": ".py",
   "mimetype": "text/x-python",
   "name": "python",
   "nbconvert_exporter": "python",
   "pygments_lexer": "ipython3",
   "version": "3.7.12"
  },
  "papermill": {
   "default_parameters": {},
   "duration": 386.490137,
   "end_time": "2022-01-28T06:44:18.088095",
   "environment_variables": {},
   "exception": null,
   "input_path": "__notebook__.ipynb",
   "output_path": "__notebook__.ipynb",
   "parameters": {},
   "start_time": "2022-01-28T06:37:51.597958",
   "version": "2.3.3"
  }
 },
 "nbformat": 4,
 "nbformat_minor": 5
}
